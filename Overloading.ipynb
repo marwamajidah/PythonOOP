{
 "cells": [
  {
   "cell_type": "markdown",
   "metadata": {},
   "source": [
    "# Overloading Method & Operator Overloading"
   ]
  },
  {
   "cell_type": "markdown",
   "metadata": {},
   "source": [
    "## Overloading Method"
   ]
  },
  {
   "cell_type": "markdown",
   "metadata": {},
   "source": [
    "Overloading method ialah method yangmengeksekusi berdasarkan jumlah parameter yang diinputkan, beda jumlah parameternya maka berbeda pula method yg ditampilkan"
   ]
  },
  {
   "cell_type": "code",
   "execution_count": 37,
   "metadata": {},
   "outputs": [
    {
     "name": "stdout",
     "output_type": "stream",
     "text": [
      "Ini hanya Menampilkan B =  <__main__.obj object at 0x00000221CB8DBD68>\n"
     ]
    },
    {
     "ename": "TypeError",
     "evalue": "tampil() takes from 0 to 1 positional arguments but 2 were given",
     "output_type": "error",
     "traceback": [
      "\u001b[1;31m---------------------------------------------------------------------------\u001b[0m",
      "\u001b[1;31mTypeError\u001b[0m                                 Traceback (most recent call last)",
      "\u001b[1;32m<ipython-input-37-00a1c105e575>\u001b[0m in \u001b[0;36m<module>\u001b[1;34m()\u001b[0m\n\u001b[0;32m      7\u001b[0m \u001b[0ma\u001b[0m\u001b[1;33m=\u001b[0m\u001b[0mobj\u001b[0m\u001b[1;33m(\u001b[0m\u001b[1;33m)\u001b[0m\u001b[1;33m\u001b[0m\u001b[0m\n\u001b[0;32m      8\u001b[0m \u001b[0ma\u001b[0m\u001b[1;33m.\u001b[0m\u001b[0mtampil\u001b[0m\u001b[1;33m(\u001b[0m\u001b[1;33m)\u001b[0m\u001b[1;33m\u001b[0m\u001b[0m\n\u001b[1;32m----> 9\u001b[1;33m \u001b[0ma\u001b[0m\u001b[1;33m.\u001b[0m\u001b[0mtampil\u001b[0m\u001b[1;33m(\u001b[0m\u001b[1;34m'A'\u001b[0m\u001b[1;33m)\u001b[0m\u001b[1;33m\u001b[0m\u001b[0m\n\u001b[0m",
      "\u001b[1;31mTypeError\u001b[0m: tampil() takes from 0 to 1 positional arguments but 2 were given"
     ]
    }
   ],
   "source": [
    "class obj:\n",
    "    def tampil(b=None):\n",
    "        if b is not None:\n",
    "            print('Ini hanya Menampilkan B = ',b)\n",
    "        else:\n",
    "            print('B = Kosong')\n",
    "a=obj()\n",
    "a.tampil()\n",
    "a.tampil('A')"
   ]
  },
  {
   "cell_type": "markdown",
   "metadata": {},
   "source": [
    "## Operator Overloading"
   ]
  },
  {
   "cell_type": "code",
   "execution_count": 25,
   "metadata": {},
   "outputs": [
    {
     "name": "stdout",
     "output_type": "stream",
     "text": [
      "Point This Object is at: (3,6)\n"
     ]
    }
   ],
   "source": [
    "class point:\n",
    "    def __init__(self,x=0,y=0):\n",
    "        self.x=x\n",
    "        self.y=y\n",
    "    def __str__(self):\n",
    "        return 'Point This Object is at: ('+str(self.x)+','+str(self.y)+')'\n",
    "    def __add__(self,other):\n",
    "        x=self.x+other.x\n",
    "        y=self.y+other.y\n",
    "        return point(x,y)\n",
    "p1=point(1,2)\n",
    "p2=point(2,4)\n",
    "print(p1+p2)"
   ]
  },
  {
   "cell_type": "code",
   "execution_count": 34,
   "metadata": {},
   "outputs": [
    {
     "name": "stdout",
     "output_type": "stream",
     "text": [
      ">>> Luas Persegi\n",
      "Jarak X = 6\n",
      "Jarak Y = 7\n",
      "Luas = 42\n"
     ]
    }
   ],
   "source": [
    "#Menghitung Luas\n",
    "class point:\n",
    "    def __init__(self,x=0,y=0):\n",
    "        self.x=x\n",
    "        self.y=y\n",
    "    def __str__(self):\n",
    "        return '>>> Luas Persegi\\n'+'Jarak X = '+str(self.x)+'\\nJarak Y = '+str(self.y)+'\\nLuas = '+str(self.x*self.y)\n",
    "    def __sub__(self,other):\n",
    "        if self.x< other.x:\n",
    "             x=other.x-self.x\n",
    "        elif self.x > other.x:\n",
    "             x=self.x-other.x\n",
    "        if self.y < other.y:\n",
    "            y=other.y-self.y\n",
    "        elif self.y>other.y:\n",
    "            y=self.y-other.y\n",
    "        return point(x,y)\n",
    "p1=point(8,2)\n",
    "p2=point(2,9)\n",
    "print(p1-p2)"
   ]
  }
 ],
 "metadata": {
  "kernelspec": {
   "display_name": "Python 3",
   "language": "python",
   "name": "python3"
  },
  "language_info": {
   "codemirror_mode": {
    "name": "ipython",
    "version": 3
   },
   "file_extension": ".py",
   "mimetype": "text/x-python",
   "name": "python",
   "nbconvert_exporter": "python",
   "pygments_lexer": "ipython3",
   "version": "3.6.5"
  }
 },
 "nbformat": 4,
 "nbformat_minor": 2
}
