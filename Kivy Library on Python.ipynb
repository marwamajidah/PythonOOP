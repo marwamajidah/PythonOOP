{
 "cells": [
  {
   "cell_type": "markdown",
   "metadata": {},
   "source": [
    "# Kivy"
   ]
  },
  {
   "cell_type": "markdown",
   "metadata": {},
   "source": [
    "Kivy ini sendiri merupakan framework yang dibangun menggunakan library dari bahasa pemrograman Python yang bersifat Open Source, Kivy juga merupakan salah satu library dari python yang dapat membuat aplikasi Android, aplikasi mobile secara multiplatform menggunakan bahasa pemrograman Python.\n"
   ]
  },
  {
   "cell_type": "markdown",
   "metadata": {},
   "source": [
    "Instalasi"
   ]
  },
  {
   "cell_type": "markdown",
   "metadata": {},
   "source": [
    "Buka CMD, pastikan terhubung dengan internet, tuliskan \"pip install Kivy\". Akan langsung otomatis menginstall kivy dan tunggu proses instalasi hingga selesai."
   ]
  },
  {
   "cell_type": "markdown",
   "metadata": {},
   "source": [
    "Untuk menggunakan library kivy dilakukan proses import kivy"
   ]
  },
  {
   "cell_type": "code",
   "execution_count": null,
   "metadata": {},
   "outputs": [],
   "source": [
    "import kivy\n",
    "from kivy.app import App"
   ]
  },
  {
   "cell_type": "markdown",
   "metadata": {},
   "source": [
    "Contoh program src dari web kivy"
   ]
  },
  {
   "cell_type": "code",
   "execution_count": null,
   "metadata": {},
   "outputs": [],
   "source": [
    "'''\n",
    "Application example using build() + return\n",
    "==========================================\n",
    "\n",
    "An application can be built if you return a widget on build(), or if you set\n",
    "self.root.\n",
    "'''\n",
    "\n",
    "import kivy\n",
    "kivy.require('1.0.7')\n",
    "\n",
    "from kivy.app import App\n",
    "from kivy.uix.button import Button\n",
    "\n",
    "\n",
    "class TestApp(App):\n",
    "\n",
    "    def build(self):\n",
    "        # return a Button() as a root widget\n",
    "        return Button(text='hello world')\n",
    "\n",
    "\n",
    "if __name__ == '__main__':\n",
    "    TestApp().run()"
   ]
  }
 ],
 "metadata": {
  "kernelspec": {
   "display_name": "Python 3",
   "language": "python",
   "name": "python3"
  },
  "language_info": {
   "codemirror_mode": {
    "name": "ipython",
    "version": 3
   },
   "file_extension": ".py",
   "mimetype": "text/x-python",
   "name": "python",
   "nbconvert_exporter": "python",
   "pygments_lexer": "ipython3",
   "version": "3.6.5"
  }
 },
 "nbformat": 4,
 "nbformat_minor": 2
}
