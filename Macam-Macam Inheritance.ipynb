{
 "cells": [
  {
   "cell_type": "markdown",
   "metadata": {},
   "source": [
    "# Macam-Macam Inheritance"
   ]
  },
  {
   "cell_type": "markdown",
   "metadata": {},
   "source": [
    "Inheritance (Pewarisan Properti dan method dari induk class)\n",
    "memiliki beberapa type, diantaranya :\n",
    "\n",
    "1. Default\n",
    "2. Overriding\n",
    "3. Super\n",
    "4. Multiple"
   ]
  },
  {
   "cell_type": "markdown",
   "metadata": {},
   "source": [
    "### 1. Default"
   ]
  },
  {
   "cell_type": "markdown",
   "metadata": {},
   "source": [
    "Isinya sama dengan class induknya\n",
    "\n",
    "Contoh :"
   ]
  },
  {
   "cell_type": "code",
   "execution_count": null,
   "metadata": {},
   "outputs": [],
   "source": [
    "class hiu(induk):\n",
    "    pass"
   ]
  },
  {
   "cell_type": "markdown",
   "metadata": {},
   "source": [
    "### 2. Overriding "
   ]
  },
  {
   "cell_type": "markdown",
   "metadata": {},
   "source": [
    "Anak kelas yang dapat mengubah properti / Method pada kelas induk"
   ]
  },
  {
   "cell_type": "markdown",
   "metadata": {},
   "source": [
    "contoh :"
   ]
  },
  {
   "cell_type": "code",
   "execution_count": null,
   "metadata": {},
   "outputs": [],
   "source": [
    "class induk:\n",
    "    def __init__(self,nama=\"Saya\"):\n",
    "        self.nama=nama\n",
    "    def tugas(self):\n",
    "        print(\"Ini method Induk\")\n",
    "class anak(induk):\n",
    "     def __init__(self,nama=\"kamu\"): # Overide properti\n",
    "        self.nama=nama\n",
    "    def tugas(self): #Overide Method induk\n",
    "        print(\"Ini Override\")"
   ]
  },
  {
   "cell_type": "markdown",
   "metadata": {},
   "source": [
    "Contoh Program 2:"
   ]
  },
  {
   "cell_type": "code",
   "execution_count": 1,
   "metadata": {
    "scrolled": true
   },
   "outputs": [
    {
     "name": "stdout",
     "output_type": "stream",
     "text": [
      "3 Sembarang \n",
      "\n",
      "3 Sama Kaki \n",
      "\n",
      "3 Sama Sisi \n",
      "\n"
     ]
    }
   ],
   "source": [
    "class Segitiga:\n",
    "    def __init__(self,jumlahsegi=\"3\",bentuksegitiga=\"Sembarang\"):\n",
    "        self.jumlahsegi=jumlahsegi\n",
    "        self.bentuksegitiga=bentuksegitiga\n",
    "    def ps(self):\n",
    "        print(self.jumlahsegi,self.bentuksegitiga,\"\\n\")\n",
    "        \n",
    "class SegitigaSamaKaki(Segitiga):\n",
    "    def __init__(self,jumlahsegi=\"3\",bentuksegitiga=\"Sama Kaki\"):\n",
    "        self.jumlahsegi=jumlahsegi\n",
    "        self.bentuksegitiga=bentuksegitiga\n",
    "        \n",
    "class SegitigaSamaSisi(Segitiga):\n",
    "    def __init__(self,jumlahsegi=\"3\",bentuksegitiga=\"Sama Sisi\"):\n",
    "        self.jumlahsegi=jumlahsegi\n",
    "        self.bentuksegitiga=bentuksegitiga\n",
    "\n",
    "s=Segitiga()\n",
    "s.ps()\n",
    "a=SegitigaSamaKaki()\n",
    "a.ps()\n",
    "b=SegitigaSamaSisi()\n",
    "b.ps()"
   ]
  },
  {
   "cell_type": "markdown",
   "metadata": {},
   "source": [
    "### 3. Super "
   ]
  },
  {
   "cell_type": "markdown",
   "metadata": {},
   "source": [
    "Digunakan untuk inisiasi properti parent class pada sub class"
   ]
  },
  {
   "cell_type": "code",
   "execution_count": 21,
   "metadata": {},
   "outputs": [
    {
     "name": "stdout",
     "output_type": "stream",
     "text": [
      "Ikan\n",
      "fresh\n"
     ]
    }
   ],
   "source": [
    "class Fish:\n",
    "    def __init__(self,fish=\"Ikan\"):\n",
    "        self.fish=fish\n",
    "    def pnj(self):\n",
    "        print(self.fish)\n",
    "        print(self.water)\n",
    "class trout(Fish):\n",
    "    def __init__(self,water=\"fresh\"):\n",
    "        self.water=water\n",
    "        Fish.__init__(self)\n",
    "        #Atau :\n",
    "        #super().__init__(self)\n",
    "a=trout()\n",
    "a.pnj()"
   ]
  },
  {
   "cell_type": "markdown",
   "metadata": {},
   "source": [
    "### 4. Multiple"
   ]
  },
  {
   "cell_type": "markdown",
   "metadata": {},
   "source": [
    "Subclass yang memiliki 2 atau lebih Parent class"
   ]
  },
  {
   "cell_type": "code",
   "execution_count": 37,
   "metadata": {},
   "outputs": [
    {
     "name": "stdout",
     "output_type": "stream",
     "text": [
      "Nama : a\n",
      "Npm :1\n",
      "Mtk :1\n",
      "Bio :1\n",
      "a\n",
      "npm : 1\n",
      "nilai :  5\n",
      "None None\n"
     ]
    }
   ],
   "source": [
    "class psn:\n",
    "    def __init__(self):\n",
    "        self.nama=input(\"Nama : \")\n",
    "    def dp(self):\n",
    "        print(self.nama)\n",
    "class mark:\n",
    "    def __init__(self):\n",
    "        self.npm=input(\"Npm :\")\n",
    "        self.mtk=input(\"Mtk :\")\n",
    "        self.bio=input(\"Bio :\")\n",
    "    def dps(self):\n",
    "        print(\"npm :\", self.npm)\n",
    "        print(\"nilai : \",int(self.mtk+self.bio)//2)\n",
    "class mhs(psn,mark):\n",
    "    def __init__(self):\n",
    "        psn.__init__(self)\n",
    "        mark.__init__(self)\n",
    "    def pnk(self):\n",
    "        print(psn.dp(self),\n",
    "             mark.dps(self))\n",
    "a=mhs()\n",
    "a.pnk()"
   ]
  },
  {
   "cell_type": "markdown",
   "metadata": {},
   "source": [
    "## "
   ]
  }
 ],
 "metadata": {
  "kernelspec": {
   "display_name": "Python 3",
   "language": "python",
   "name": "python3"
  },
  "language_info": {
   "codemirror_mode": {
    "name": "ipython",
    "version": 3
   },
   "file_extension": ".py",
   "mimetype": "text/x-python",
   "name": "python",
   "nbconvert_exporter": "python",
   "pygments_lexer": "ipython3",
   "version": "3.6.5"
  }
 },
 "nbformat": 4,
 "nbformat_minor": 2
}
